{
 "cells": [
  {
   "cell_type": "markdown",
   "id": "ccab6955-c595-4a7e-bf3e-8bb62bffc36d",
   "metadata": {},
   "source": [
    "# Imprtance Sampling"
   ]
  },
  {
   "cell_type": "markdown",
   "id": "25544010-2991-408e-85a3-59b00ea9e22a",
   "metadata": {},
   "source": []
  },
  {
   "cell_type": "markdown",
   "id": "c73da25f-b929-42b2-90e8-07e0adcdbfa7",
   "metadata": {},
   "source": [
    "## References"
   ]
  },
  {
   "cell_type": "markdown",
   "id": "5ec3b8f8-bde9-4d71-915a-fd18d5d5eeac",
   "metadata": {},
   "source": [
    "1. Larry Wasserman, _All of Statistics. A Concise Course in Statistical Inference_, Springer 2003."
   ]
  }
 ],
 "metadata": {
  "kernelspec": {
   "display_name": "Python 3 (ipykernel)",
   "language": "python",
   "name": "python3"
  },
  "language_info": {
   "codemirror_mode": {
    "name": "ipython",
    "version": 3
   },
   "file_extension": ".py",
   "mimetype": "text/x-python",
   "name": "python",
   "nbconvert_exporter": "python",
   "pygments_lexer": "ipython3",
   "version": "3.10.6"
  }
 },
 "nbformat": 4,
 "nbformat_minor": 5
}
