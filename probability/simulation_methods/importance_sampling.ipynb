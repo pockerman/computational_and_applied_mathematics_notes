{
 "cells": [
  {
   "cell_type": "markdown",
   "id": "ccab6955-c595-4a7e-bf3e-8bb62bffc36d",
   "metadata": {},
   "source": [
    "# Imprtance Sampling"
   ]
  },
  {
   "cell_type": "markdown",
   "id": "25544010-2991-408e-85a3-59b00ea9e22a",
   "metadata": {},
   "source": [
    "## Overview"
   ]
  },
  {
   "cell_type": "markdown",
   "id": "9861ad67-a1fe-411c-8e5c-04e4f461c53f",
   "metadata": {},
   "source": [
    "Section [Basic Monte Carlo Integration](basic_monte_carlo_integration.ipynb) discussed \n",
    "Monte Carlo integration in its basic form. In this method we need to sample from a known distribution\n",
    "$f$. However, there may be case where we do not know how to do this since we may not know $f$. \n",
    "\n",
    "In this section, we will introduce <a href=\"https://en.wikipedia.org/wiki/Importance_sampling\">importance sampling</a>.\n",
    "This is a generalization of the basic Monte Carlo method that obercomes the problem of unknown distribution."
   ]
  },
  {
   "cell_type": "markdown",
   "id": "69c4b59d-3e0e-4009-a8c8-aed6ba2da223",
   "metadata": {},
   "source": [
    "## Importance sampling"
   ]
  },
  {
   "cell_type": "markdown",
   "id": "7b1b6a06-9332-4b99-b0dc-c4cafb0a8a66",
   "metadata": {},
   "source": [
    "## Python example"
   ]
  },
  {
   "cell_type": "markdown",
   "id": "c73da25f-b929-42b2-90e8-07e0adcdbfa7",
   "metadata": {},
   "source": [
    "## References"
   ]
  },
  {
   "cell_type": "markdown",
   "id": "5ec3b8f8-bde9-4d71-915a-fd18d5d5eeac",
   "metadata": {},
   "source": [
    "1. Larry Wasserman, _All of Statistics. A Concise Course in Statistical Inference_, Springer 2003."
   ]
  }
 ],
 "metadata": {
  "kernelspec": {
   "display_name": "Python 3 (ipykernel)",
   "language": "python",
   "name": "python3"
  },
  "language_info": {
   "codemirror_mode": {
    "name": "ipython",
    "version": 3
   },
   "file_extension": ".py",
   "mimetype": "text/x-python",
   "name": "python",
   "nbconvert_exporter": "python",
   "pygments_lexer": "ipython3",
   "version": "3.10.6"
  }
 },
 "nbformat": 4,
 "nbformat_minor": 5
}
