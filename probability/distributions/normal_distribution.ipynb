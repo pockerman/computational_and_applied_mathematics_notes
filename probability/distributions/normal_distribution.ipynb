{
 "cells": [
  {
   "cell_type": "markdown",
   "metadata": {},
   "source": [
    "# Normal Distribution"
   ]
  },
  {
   "cell_type": "markdown",
   "metadata": {},
   "source": [
    "## Overview"
   ]
  },
  {
   "cell_type": "markdown",
   "metadata": {},
   "source": [
    "In this chaper we will discuss the normal or <a href=\"https://en.wikipedia.org/wiki/Normal_distribution\">Gaussian distribution</a>. \n",
    "The Gaussian distribution is perhaps the most widedly used distribution in statistics. There are several reason for this:"
   ]
  },
  {
   "cell_type": "markdown",
   "metadata": {},
   "source": [
    "- It has two parameters, mean and variance, which are easy to interpret\n",
    "- The <a href=\"https://en.wikipedia.org/wiki/Central_limit_theorem\">CLT</a> tells us that the sums of independent random variables have an approximately Gaussian distribution. Thus, it is a good choice to model residual errors or noise\n",
    "- The Gaussian distribution makes the least number of assumptions (has maximum entropy) subject to the constraint of having a specified mean and variance."
   ]
  },
  {
   "cell_type": "markdown",
   "metadata": {},
   "source": [
    "One probem with the Gaussian distribution is that it is sensitive to outliers since the log-probability only decays quadratically with distance from the center."
   ]
  },
  {
   "cell_type": "markdown",
   "metadata": {},
   "source": [
    "## The normal distribution"
   ]
  },
  {
   "cell_type": "markdown",
   "metadata": {},
   "source": [
    "For 1D data, the normal distribution is characterised by the following PDF, see e.g. [1]"
   ]
  },
  {
   "cell_type": "markdown",
   "metadata": {},
   "source": [
    "\\begin{equation}\n",
    "p(x) = \\frac{1}{(2 \\pi \\sigma^2)^{1/2}}exp\\left(- \\frac{1}{2\\sigma^2} (x - \\mu)^2 \\right)\n",
    "\\label{eq:eq1}\\tag{1}\n",
    "\\end{equation}"
   ]
  },
  {
   "cell_type": "markdown",
   "metadata": {},
   "source": [
    "This PDF depends only on two parameters; the mean $\\mu$ and the variance $\\sigma^2$. "
   ]
  },
  {
   "cell_type": "markdown",
   "metadata": {},
   "source": [
    "----\n",
    "**Remark:** Precision\n",
    "\n",
    "\n",
    "The inverse of the variance\n",
    "\n",
    "$$\\beta = \\frac{1}{\\sigma^2}$$\n",
    "\n",
    "is called the precision\n",
    "\n",
    "----"
   ]
  },
  {
   "cell_type": "markdown",
   "metadata": {},
   "source": [
    "Let's use Python to plot the PDF above. "
   ]
  },
  {
   "cell_type": "code",
   "execution_count": 1,
   "metadata": {
    "tags": []
   },
   "outputs": [],
   "source": [
    "import numpy as np\n",
    "import matplotlib.pyplot as plt\n"
   ]
  },
  {
   "cell_type": "code",
   "execution_count": 16,
   "metadata": {
    "tags": []
   },
   "outputs": [
    {
     "data": {
      "image/png": "[encoded data removed]",
      "text/plain": [
       "<Figure size 432x288 with 1 Axes>"
      ]
     },
     "metadata": {
      "needs_background": "light"
     },
     "output_type": "display_data"
    }
   ],
   "source": [
    "import numpy as np\n",
    "import matplotlib.pyplot as plt\n",
    "from scipy.stats import norm\n",
    "import statistics\n",
    "\n",
    "# Plot between -10 and 10 with .001 steps.\n",
    "x_axis = np.arange(-10, 10, 0.01)\n",
    "\n",
    "# Calculating mean \n",
    "mean = np.mean(x_axis)\n",
    "\n",
    "plt.plot(x_axis, norm.pdf(x_axis, mean, 1), label=\"std=1\")\n",
    "plt.plot(x_axis, norm.pdf(x_axis, mean, 2), label=\"std=2\")\n",
    "plt.plot(x_axis, norm.pdf(x_axis, mean, 5), label=\"std=5\")\n",
    "plt.legend(loc=\"upper right\")\n",
    "plt.show()\n"
   ]
  },
  {
   "cell_type": "markdown",
   "metadata": {},
   "source": [
    "The PDF of the normal distribution is symmetric about the mean. Thus, the normal distribution is can be used to describe picked symmetric data. Furthermore, \n",
    "many of the statistical procedures we use, assume normality of the data. \n",
    "Observe that the higher the standard deviation, the more flat the distribution appears to be. Consequently, the higher the variance the more spread the data appears to be.\n",
    "In addition, notice that $p(x) > 0, \\forall x$ and that "
   ]
  },
  {
   "cell_type": "markdown",
   "metadata": {},
   "source": [
    "\\begin{equation}\n",
    "\\int_{-\\infty}^{+ \\infty} p(x) dx = 1\n",
    "\\end{equation}"
   ]
  },
  {
   "cell_type": "markdown",
   "metadata": {},
   "source": [
    "Therefore $\\ref{eq1}$ is a valid probability density. In can be shown that "
   ]
  },
  {
   "cell_type": "markdown",
   "metadata": {},
   "source": [
    "\\begin{equation}\n",
    "E \\left[x\\right] = \\int_{-\\infty}^{+ \\infty} p(x) x dx = \\mu\n",
    "\\label{eq:eq2}\\tag{2}\n",
    "\\end{equation}\n",
    "\n",
    "\\begin{equation}\n",
    "Var \\left[x\\right] = \\sigma^2\n",
    "\\label{eq:eq3}\\tag{3}\n",
    "\\end{equation}"
   ]
  },
  {
   "cell_type": "markdown",
   "metadata": {},
   "source": [
    "Moreover, given that the gaussian distribution is symmetric the median coincides with the mean $\\mu$. Also not that the maximum of the function appears at $x=\\mu$."
   ]
  },
  {
   "cell_type": "markdown",
   "metadata": {},
   "source": [
    "One thing we should be aware with the normal distribution is that the tails appear to have a really small probability. \n",
    "Hence, modeling outliers is not easy i.e. when dealing with outliers the normal distribution might not be the best description of the data."
   ]
  },
  {
   "cell_type": "markdown",
   "metadata": {},
   "source": [
    "## Multi-dimensional data"
   ]
  },
  {
   "cell_type": "markdown",
   "metadata": {},
   "source": [
    "## Summary"
   ]
  },
  {
   "cell_type": "markdown",
   "metadata": {},
   "source": [
    "## References"
   ]
  },
  {
   "cell_type": "markdown",
   "metadata": {},
   "source": [
    "1. Christopher M. Bishop, _Pattern Recognition and Machine Learning_ Springer, 2006."
   ]
  }
 ],
 "metadata": {
  "kernelspec": {
   "display_name": "Python 3 (ipykernel)",
   "language": "python",
   "name": "python3"
  },
  "language_info": {
   "codemirror_mode": {
    "name": "ipython",
    "version": 3
   },
   "file_extension": ".py",
   "mimetype": "text/x-python",
   "name": "python",
   "nbconvert_exporter": "python",
   "pygments_lexer": "ipython3",
   "version": "3.10.6"
  }
 },
 "nbformat": 4,
 "nbformat_minor": 4
}
