{
 "cells": [
  {
   "cell_type": "markdown",
   "id": "d3e1e0b1-b127-4b6d-8d07-be1f7639eb96",
   "metadata": {},
   "source": [
    "# Bayesian Inference"
   ]
  },
  {
   "cell_type": "markdown",
   "id": "d3f376f5-151a-4878-99c3-6ac7f20fb26f",
   "metadata": {},
   "source": [
    "## Overview"
   ]
  },
  {
   "cell_type": "markdown",
   "id": "8396e4ba-c3cc-4bfa-8c14-c8efae50e13a",
   "metadata": {},
   "source": [
    "So far we have seen various methodologies for making inferences about population parameters; point estimation, \n",
    "hypothesis testing and confidence intervals and  index of effect size. Each of these items communicates a different \n",
    "perspective regarding the findings of an investigation. The methodologies explored are based on what  frequentist approach of\n",
    "interpreting probability. "
   ]
  },
  {
   "cell_type": "markdown",
   "id": "950572c6-90da-46e5-8104-42310e89fd3e",
   "metadata": {},
   "source": [
    "In this section, we intorduce the bayesian framwork for inference. The framework combines two elements; an assumed prior distribution\n",
    "of the unknown parameter $\\theta$ and the information contained in the observed data. By utilising <a href=\"https://en.wikipedia.org/wiki/Bayes'_theorem\">Bayes theorem</a>\n",
    "we obtain the posterior distribution of $\\theta$. This  is a conditional distribution of the unknown parameter, given the data [1].\n",
    "We can then use this distribution to perform inference on $\\theta$.\n"
   ]
  },
  {
   "cell_type": "markdown",
   "id": "df178c3c-fefe-462f-bc04-855d352ddff5",
   "metadata": {},
   "source": [
    "## Summary"
   ]
  },
  {
   "cell_type": "markdown",
   "id": "8e862951-3ad6-4788-b175-d70171d3dd40",
   "metadata": {},
   "source": [
    "## References"
   ]
  },
  {
   "cell_type": "markdown",
   "id": "cfc0bb2f-160c-434d-81dc-2a2c7a571117",
   "metadata": {},
   "source": [
    "1. Michael Baron, _Probability and statistics for computer scientists_, 2nd Edition, CRC Press."
   ]
  },
  {
   "cell_type": "code",
   "execution_count": null,
   "id": "2724a06f-b392-43ce-90b8-fef70f066ac5",
   "metadata": {},
   "outputs": [],
   "source": []
  }
 ],
 "metadata": {
  "kernelspec": {
   "display_name": "Python 3 (ipykernel)",
   "language": "python",
   "name": "python3"
  },
  "language_info": {
   "codemirror_mode": {
    "name": "ipython",
    "version": 3
   },
   "file_extension": ".py",
   "mimetype": "text/x-python",
   "name": "python",
   "nbconvert_exporter": "python",
   "pygments_lexer": "ipython3",
   "version": "3.10.6"
  }
 },
 "nbformat": 4,
 "nbformat_minor": 5
}
