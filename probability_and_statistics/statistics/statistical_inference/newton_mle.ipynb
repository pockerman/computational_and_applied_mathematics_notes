{
 "cells": [
  {
   "cell_type": "markdown",
   "metadata": {},
   "source": [
    "# Newton's method for MLE"
   ]
  },
  {
   "cell_type": "markdown",
   "metadata": {},
   "source": [
    "In many statistical modeling applications, we have a likelihood function L that is induced by a probability\n",
    "distribution that we assume generated the data. This likelihood is typically parameterized by a vector ◊ and\n",
    "ˆ In practice, it makes more\n",
    "maximizing L(◊) provides us with the maximum likelihood estimate (MLE), or ◊.\n",
    "sense to maximize the log-likehood function, or ¸(◊), which in many common applications is equivalent to\n",
    "solving the score equations ¸ Õ (◊) = 0 for ◊."
   ]
  }
 ],
 "metadata": {
  "kernelspec": {
   "display_name": "Python 3",
   "language": "python",
   "name": "python3"
  },
  "language_info": {
   "codemirror_mode": {
    "name": "ipython",
    "version": 3
   },
   "file_extension": ".py",
   "mimetype": "text/x-python",
   "name": "python",
   "nbconvert_exporter": "python",
   "pygments_lexer": "ipython3",
   "version": "3.8.10"
  }
 },
 "nbformat": 4,
 "nbformat_minor": 4
}
