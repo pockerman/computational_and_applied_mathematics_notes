{
 "cells": [
  {
   "cell_type": "markdown",
   "id": "7ef5ae93-e4aa-495e-b960-8f62fcd68817",
   "metadata": {},
   "source": [
    "# The Bootstrap"
   ]
  },
  {
   "cell_type": "markdown",
   "id": "fd1a2836-1a5b-488e-9f80-acd46e71ad95",
   "metadata": {},
   "source": [
    "## Overview"
   ]
  },
  {
   "cell_type": "markdown",
   "id": "95d315fd-5b51-42d4-888d-a580fe08f4f8",
   "metadata": {},
   "source": [
    "Simulation methods play a key role in modern computational statistics. In this section, we discuss some \n",
    "common simulation methods frequently used in statistics. Namely, Monte Carlo integration, Metropolis-Hastings algorithm \n",
    "and importance sampling. We begin however, with the <a href=\"https://en.wikipedia.org/wiki/Bootstrapping_(statistics)\">boostrap algorithm</a>."
   ]
  },
  {
   "cell_type": "markdown",
   "id": "5c13b756-3d73-4a13-870c-8a16a5fc6abf",
   "metadata": {},
   "source": [
    "## The boostrap"
   ]
  },
  {
   "cell_type": "markdown",
   "id": "c294315e-6287-449f-b838-14af7f7f1308",
   "metadata": {},
   "source": [
    "The boostrap was published by <a href=\"https://en.wikipedia.org/wiki/Bradley_Efron\">Bradley Efron</a>  in 1979.\n",
    "It is a mehod for computing standard errors and computing confidence intervals [1]. Overall, it is a resampling technique\n",
    "and as such it can be used to estimate statistics on a population by sampling a dataset with replacement."
   ]
  },
  {
   "cell_type": "markdown",
   "id": "ceb37bea-8a80-441b-9ec1-c3d1aba8add0",
   "metadata": {},
   "source": [
    "Specifically, let $X$ be a dataset of size $N$ and $T_N(X)$ be a static of interest. $T_N$ depends on the dataset $X$. \n",
    "An example of $T_N$ may be the dataset mean $\\bar{X}_N$ or the meadian $M_N$. For the case of the mean statistic \n",
    "we know that the standard error is"
   ]
  },
  {
   "cell_type": "markdown",
   "id": "db3a8cc8-6db1-4f04-a213-50115f42dfc7",
   "metadata": {},
   "source": [
    "$$se=\\frac{\\sigma^2}{N}$$"
   ]
  },
  {
   "cell_type": "markdown",
   "id": "97f51e71-baea-4d37-9635-3f3e47515db3",
   "metadata": {},
   "source": [
    "Calculating $se$ requires that we know $\\sigma^2$."
   ]
  },
  {
   "cell_type": "markdown",
   "id": "636be64c-005b-410a-ba22-6c3f8a2a7b35",
   "metadata": {},
   "source": [
    "## References"
   ]
  },
  {
   "cell_type": "markdown",
   "id": "2b238f43-16ac-4acb-8518-5587d8d23b08",
   "metadata": {},
   "source": [
    "1. Larry Wasserman, _All of Statistics. A Concise Course in Statistical Inference_, Springer 2003."
   ]
  }
 ],
 "metadata": {
  "kernelspec": {
   "display_name": "Python 3 (ipykernel)",
   "language": "python",
   "name": "python3"
  },
  "language_info": {
   "codemirror_mode": {
    "name": "ipython",
    "version": 3
   },
   "file_extension": ".py",
   "mimetype": "text/x-python",
   "name": "python",
   "nbconvert_exporter": "python",
   "pygments_lexer": "ipython3",
   "version": "3.10.6"
  }
 },
 "nbformat": 4,
 "nbformat_minor": 5
}
