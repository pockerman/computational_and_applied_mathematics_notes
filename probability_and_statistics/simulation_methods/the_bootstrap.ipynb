{
 "cells": [
  {
   "cell_type": "markdown",
   "metadata": {},
   "source": [
    "# The Bootstrap"
   ]
  },
  {
   "cell_type": "markdown",
   "metadata": {},
   "source": [
    "## Overview"
   ]
  },
  {
   "cell_type": "markdown",
   "metadata": {},
   "source": [
    "In this section we will introduce a commonly used data simulation technique. Specifically, we will see how to generate data samples from a sole sample. This technique is called <a href=\"https://en.wikipedia.org/wiki/Bootstrapping_(statistics)\">bootstrap</a>. The boostrap was published by <a href=\"https://en.wikipedia.org/wiki/Bradley_Efron\">Bradley Efron</a>  in 1979.\n",
    "It is a mehod for computing standard errors and computing confidence intervals [2]. Overall, it is a resampling technique\n",
    "and as such it can be used to estimate statistics on a population by sampling over a dataset with replacement."
   ]
  },
  {
   "cell_type": "markdown",
   "metadata": {},
   "source": [
    "## Bootstrap"
   ]
  },
  {
   "cell_type": "markdown",
   "metadata": {},
   "source": [
    "Bootstrap refers to a methodology whereby we use resampled data in order to perform statistical inference. \n",
    "Each resampled dataset is called a **bootstrap sample**. Furthermore, a **bootstrap replicate** is the value of the summary statistic computed from the bootstrap sample. Let's see how this can be done. "
   ]
  },
  {
   "cell_type": "markdown",
   "metadata": {},
   "source": [
    "Assume that we want to know some statistic of the general population under study. This could be the mean value or the median or any other \n",
    "statistic of interest. Let's assume that we are interested in the mean value. We know that an ubiased estimate of the population mean will the sample mean \n",
    "$\\bar{x}$"
   ]
  },
  {
   "cell_type": "markdown",
   "metadata": {},
   "source": [
    "$$\\bar{x}=\\frac{1}{n}\\sum_i x_i$$"
   ]
  },
  {
   "cell_type": "markdown",
   "metadata": {},
   "source": [
    "In this scenario, we also have an estimate for the standard error, $\\hat{se}$ given by [2],"
   ]
  },
  {
   "cell_type": "markdown",
   "metadata": {},
   "source": [
    "$$\\hat{se} = \\frac{\\hat{\\sigma}^2}{n}$$"
   ]
  },
  {
   "cell_type": "markdown",
   "metadata": {},
   "source": [
    "Boostrap is not of a lot of help with this simple example, however in many cases variance estimation is not as easy as for the case of the mean.\n",
    "This is where simulation and boostrap in particular step in. The idea behind boostrap is that we use resampling over the original dataset \n",
    "in order to estimate the quantity of interest."
   ]
  },
  {
   "cell_type": "markdown",
   "metadata": {},
   "source": [
    "### Sampling with replacement"
   ]
  },
  {
   "cell_type": "markdown",
   "metadata": {},
   "source": [
    "Sampling with replacement is a procedure where we sample from a given dataset by replacing the sampled data value back in it. \n",
    "This means that when samplig with replacement, it is possible that a value will be selected multiple times. When we discussed sampling techniques, we saw\n",
    "how to use Python and sample with replacement. In any case, this is illustrated below. Let's use Python to see an example."
   ]
  },
  {
   "cell_type": "code",
   "execution_count": 6,
   "metadata": {},
   "outputs": [],
   "source": [
    "import numpy as np\n",
    "import matplotlib.pyplot as plt\n",
    "import seaborn as sns"
   ]
  },
  {
   "cell_type": "code",
   "execution_count": 7,
   "metadata": {},
   "outputs": [],
   "source": [
    "np.random.seed(42)\n",
    "sns.set()"
   ]
  },
  {
   "cell_type": "code",
   "execution_count": 8,
   "metadata": {},
   "outputs": [],
   "source": [
    "sample = np.random.normal(0.0, 1.0, size=30)\n",
    "bootstrap_sample = np.random.choice(sample, size=len(sample), replace=True)"
   ]
  },
  {
   "cell_type": "markdown",
   "metadata": {},
   "source": [
    "This is as simple as using ```replace=True```. "
   ]
  },
  {
   "cell_type": "markdown",
   "metadata": {},
   "source": [
    "### Boostrap for the mean"
   ]
  },
  {
   "cell_type": "markdown",
   "metadata": {},
   "source": [
    "Although we argued above that obtaining an estimate for the population mean is rather easy, let's use boostrap to do that. In the code\n",
    "below, we obtain a sample of size $n=30$ from the normal distribution. Then we resaple a number of times over it.\n",
    "For each boostrap sample, we compute the statistic of interest and store it in the ```means``` array."
   ]
  },
  {
   "cell_type": "code",
   "execution_count": 9,
   "metadata": {},
   "outputs": [],
   "source": [
    "sample = np.random.normal(0.0, 1.0, size=30)\n",
    "means = []\n",
    "for itr in range(10000):\n",
    "    bootstrap_sample = np.random.choice(sample, size=len(sample), replace=True)\n",
    "    \n",
    "    # compute the bootstrap replicate and\n",
    "    # store it in the sample means array\n",
    "    means.append(np.mean(bootstrap_sample))\n",
    " "
   ]
  },
  {
   "cell_type": "markdown",
   "metadata": {},
   "source": [
    "Let's also plot the empirical distribution of the estimates"
   ]
  },
  {
   "cell_type": "code",
   "execution_count": 13,
   "metadata": {},
   "outputs": [
    {
     "data": {
      "image/png": "[encoded data removed]",
      "text/plain": [
       "<Figure size 432x288 with 1 Axes>"
      ]
     },
     "metadata": {
      "needs_background": "light"
     },
     "output_type": "display_data"
    }
   ],
   "source": [
    "# Generate plot\n",
    "_ = plt.hist(means, bins=30)\n",
    "\n",
    "# Label the axes\n",
    "_ = plt.xlabel(\"mean\")\n",
    "_ = plt.ylabel(\"frequency\")\n",
    "\n",
    "\n",
    "# Display the plot\n",
    "plt.show()"
   ]
  },
  {
   "cell_type": "markdown",
   "metadata": {},
   "source": [
    "Sample from the standard normal distribution a sample of size 30"
   ]
  },
  {
   "cell_type": "code",
   "execution_count": 3,
   "metadata": {},
   "outputs": [],
   "source": [
    "sample = np.random.normal(0.0, 1.0, size=30)"
   ]
  },
  {
   "cell_type": "code",
   "execution_count": 4,
   "metadata": {},
   "outputs": [
    {
     "name": "stdout",
     "output_type": "stream",
     "text": [
      "Sample mean -0.12166505109323539\n"
     ]
    }
   ],
   "source": [
    "print(f\"Sample mean {np.mean(sample)}\")"
   ]
  },
  {
   "cell_type": "markdown",
   "metadata": {},
   "source": [
    "Increasing the sample size gives us a better estimation of the population mean"
   ]
  },
  {
   "cell_type": "code",
   "execution_count": 5,
   "metadata": {},
   "outputs": [
    {
     "name": "stdout",
     "output_type": "stream",
     "text": [
      "Sample mean -0.25720831746355965\n",
      "Sample mean -0.12499781113827758\n",
      "Sample mean 0.04503177634590409\n"
     ]
    }
   ],
   "source": [
    "sample_size = [30, 60, 120]\n",
    "\n",
    "for s in sample_size:\n",
    "    sample = np.random.normal(0.0, 1.0, size=s)\n",
    "    print(f\"Sample mean {np.mean(sample)}\")"
   ]
  },
  {
   "cell_type": "markdown",
   "metadata": {},
   "source": [
    "However, obtaining a large sample sometimes is simply not possible. How can we obtain an estimate about the population mean? We can use sampling with replacement to compensate for the luck of data. This is easy with Python; use ```np.random.choice``` to sample with replacement from the original sample"
   ]
  },
  {
   "cell_type": "code",
   "execution_count": 8,
   "metadata": {},
   "outputs": [],
   "source": [
    "sample = np.random.normal(0.0, 1.0, size=30)\n",
    "bootstrap_sample = np.random.choice(sample, size=len(sample), replace=True)"
   ]
  },
  {
   "cell_type": "markdown",
   "metadata": {},
   "source": [
    "Compute the bootstrap replicate"
   ]
  },
  {
   "cell_type": "code",
   "execution_count": 9,
   "metadata": {},
   "outputs": [
    {
     "name": "stdout",
     "output_type": "stream",
     "text": [
      "Bootstrap sample mean -0.0164955945179116\n"
     ]
    }
   ],
   "source": [
    "print(f\"Bootstrap sample mean {np.mean(bootstrap_sample)}\")"
   ]
  },
  {
   "cell_type": "markdown",
   "metadata": {},
   "source": [
    "In fact we can use the process above and obtain the mean of many bootstrap samples."
   ]
  },
  {
   "cell_type": "code",
   "execution_count": 10,
   "metadata": {},
   "outputs": [],
   "source": [
    "sample_means = []\n",
    "for itr in range(10000):\n",
    "    bootstrap_sample = np.random.choice(sample, size=len(sample), replace=True)\n",
    "    \n",
    "    # compute the bootstrap replicate and\n",
    "    # store it in the sample means array\n",
    "    sample_means.append(np.mean(bootstrap_sample))\n",
    " \n",
    "\n"
   ]
  },
  {
   "cell_type": "code",
   "execution_count": 11,
   "metadata": {},
   "outputs": [],
   "source": [
    "def ecdf(data):\n",
    "    \"\"\"Compute ECDF for a one-dimensional array of measurements.\n",
    "    \"\"\"\n",
    "    \n",
    "    # Number of data points: n\n",
    "    n = len(data)\n",
    "\n",
    "    # x-data for the ECDF: x\n",
    "    x = np.sort(data)\n",
    "\n",
    "    # y-data for the ECDF: y\n",
    "    y = np.arange(1, n + 1) / n\n",
    "\n",
    "    return x, y"
   ]
  },
  {
   "cell_type": "code",
   "execution_count": 12,
   "metadata": {},
   "outputs": [
    {
     "data": {
      "image/png": "[encoded data removed]",
      "text/plain": [
       "<Figure size 432x288 with 1 Axes>"
      ]
     },
     "metadata": {},
     "output_type": "display_data"
    }
   ],
   "source": [
    "# Compute ECDF for versicolor data: x_vers, y_vers\n",
    "x, y = ecdf(sample_means)\n",
    "\n",
    "# Generate plot\n",
    "_ = plt.plot(x, y, marker='.', linestyle='none')\n",
    "\n",
    "# Label the axes\n",
    "_ = plt.xlabel(\"Percenatge\")\n",
    "_ = plt.ylabel(\"ECDF\")\n",
    "\n",
    "\n",
    "# Display the plot\n",
    "plt.show()"
   ]
  },
  {
   "cell_type": "code",
   "execution_count": 13,
   "metadata": {},
   "outputs": [
    {
     "data": {
      "image/png": "[encoded data removed]",
      "text/plain": [
       "<Figure size 432x288 with 1 Axes>"
      ]
     },
     "metadata": {},
     "output_type": "display_data"
    }
   ],
   "source": [
    "_ = plt.hist(sample_means, bins=30)\n",
    "_ = plt.xlabel(\"Mean value\")\n",
    "_ = plt.ylabel(\"Frequency\")\n",
    "plt.show()"
   ]
  },
  {
   "cell_type": "markdown",
   "metadata": {},
   "source": [
    "### Bootstrap confidence intervals"
   ]
  },
  {
   "cell_type": "markdown",
   "metadata": {},
   "source": [
    "Previously, we saw how to use sampling with replacement and get an estimate of the needed statistic. We called this value the bootstrap replicate. Now the questions arises; how precise is the estimate we obtained? "
   ]
  },
  {
   "cell_type": "markdown",
   "metadata": {},
   "source": [
    "Recall that a confidence interval expresses precision.  In particular, a confidence interval expresses a range of plausible values for the population parameter we want to estimate."
   ]
  },
  {
   "cell_type": "markdown",
   "metadata": {},
   "source": [
    "Let's compute a $95\\%$ confidence interval for the mean. We can do this using ```np.percentile``` as follows"
   ]
  },
  {
   "cell_type": "code",
   "execution_count": 29,
   "metadata": {},
   "outputs": [
    {
     "name": "stdout",
     "output_type": "stream",
     "text": [
      "95% confidence interval for the mean [-0.0622946   0.63267489]\n"
     ]
    }
   ],
   "source": [
    "print(f\"95% confidence interval for the mean {np.percentile(sample_means, [2.5, 97.5])}\")"
   ]
  },
  {
   "cell_type": "markdown",
   "metadata": {},
   "source": [
    "## Summary"
   ]
  },
  {
   "cell_type": "markdown",
   "metadata": {},
   "source": [
    "In this section we reviewed the bootstrap methodology. It allows us to generate samples from a given sample. We can use bootstrap when there is little data available in order to generate more data for us. Furthermore, it can be used to estimate population parameters by Monte Carlo simulations when it is too difficult to do it analytically. We will see the latter in the next section."
   ]
  },
  {
   "cell_type": "markdown",
   "metadata": {},
   "source": [
    "## References"
   ]
  },
  {
   "cell_type": "markdown",
   "metadata": {},
   "source": [
    "1. <a href=\"https://en.wikipedia.org/wiki/Bootstrapping_(statistics)\">Bootstrapping (statistics)</a>\n",
    "2. Larry Wasserman, _All of Statistics. A Concise Course in Statistical Inference_, Springer 2003."
   ]
  }
 ],
 "metadata": {
  "kernelspec": {
   "display_name": "Python 3 (ipykernel)",
   "language": "python",
   "name": "python3"
  },
  "language_info": {
   "codemirror_mode": {
    "name": "ipython",
    "version": 3
   },
   "file_extension": ".py",
   "mimetype": "text/x-python",
   "name": "python",
   "nbconvert_exporter": "python",
   "pygments_lexer": "ipython3",
   "version": "3.10.6"
  }
 },
 "nbformat": 4,
 "nbformat_minor": 4
}
