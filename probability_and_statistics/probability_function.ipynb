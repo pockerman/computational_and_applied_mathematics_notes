{
 "cells": [
  {
   "cell_type": "markdown",
   "id": "c9e668bc-c677-404e-8967-c606a45c84ea",
   "metadata": {},
   "source": [
    "# Probability Function"
   ]
  },
  {
   "cell_type": "markdown",
   "id": "02ff7548-b9d9-4bde-81f4-44e5ca6bf0e9",
   "metadata": {},
   "source": [
    "## Overview"
   ]
  },
  {
   "cell_type": "markdown",
   "id": "58ba545d-4b8f-4cdb-af86-e560074bfd38",
   "metadata": {},
   "source": [
    "In this section we review the probability function $P$ and state some of its properties. \n",
    "The function $P$ that assigns a real number $P(A)$ to each event $A$ has \n",
    "to  satisfy three axioms [1]. There are many interpretations of $P(A)$. The two most common ones are frequencies and degrees of belief [1]. The first interpretation \n",
    "assigns $P(A)$ the proportion of times the event $A$ is true in repetitions. The degree-of-belief interpretation\n",
    "assigns $P(A)$ the belief of an observer that the event $A$ is true [1]. This difference will manifest itself when we look into\n",
    "statistical inference. \n",
    " "
   ]
  },
  {
   "cell_type": "markdown",
   "id": "3a0c19a0-95a2-46b9-8b43-f7bee9e09296",
   "metadata": {},
   "source": [
    "## Probability function"
   ]
  },
  {
   "cell_type": "markdown",
   "id": "7c0291cc-bcb1-41d6-99cd-85638a4fbf17",
   "metadata": {},
   "source": [
    "## References"
   ]
  },
  {
   "cell_type": "markdown",
   "id": "7aa2a198-4978-445a-9294-0e97aaae247a",
   "metadata": {},
   "source": [
    "1. Larry Wasserman, _All of Statistics. A Concise Course in Statistical Inference_, Springer 2003."
   ]
  }
 ],
 "metadata": {
  "kernelspec": {
   "display_name": "Python 3 (ipykernel)",
   "language": "python",
   "name": "python3"
  },
  "language_info": {
   "codemirror_mode": {
    "name": "ipython",
    "version": 3
   },
   "file_extension": ".py",
   "mimetype": "text/x-python",
   "name": "python",
   "nbconvert_exporter": "python",
   "pygments_lexer": "ipython3",
   "version": "3.10.6"
  }
 },
 "nbformat": 4,
 "nbformat_minor": 5
}
