{
 "cells": [
  {
   "cell_type": "markdown",
   "id": "b21b6390-fe0c-42f3-b0cc-6250fbed971c",
   "metadata": {},
   "source": [
    "# Iterative methods"
   ]
  },
  {
   "cell_type": "markdown",
   "id": "61d3ac67-8d12-4041-bd2f-5e01c9de347e",
   "metadata": {},
   "source": [
    "## Overview"
   ]
  },
  {
   "cell_type": "markdown",
   "id": "5177e294-e554-4777-9137-ea1d953a8c3a",
   "metadata": {},
   "source": [
    "The previous sections discussed various methodologies for solving the system"
   ]
  },
  {
   "cell_type": "markdown",
   "id": "f8b4b937-4034-4766-ba63-3dffd0fc66d2",
   "metadata": {},
   "source": [
    "\\begin{equation}\n",
    "A \\mathbf{x} = \\mathbf{b}\n",
    "\\label{eq:eq1}\\tag{1}\n",
    "\\end{equation}"
   ]
  },
  {
   "cell_type": "markdown",
   "id": "febbdc95-a2bf-496a-8d59-4a4ff079c86c",
   "metadata": {},
   "source": [
    "In aprticular, we saw that the LU decomposition approach, requires $O(n^3)$ time to compute. However, it is possible,  If we\n",
    "specialize the type of matrix $A$ to do better, This is particularly true for\n",
    "sparse matrices, where iterative methods are very useful (these techniques are similar to Fixed-point iteration).\n",
    "\n",
    "\n",
    "----\n",
    "**Sparse matrix**\n",
    "\n",
    "\n",
    "A matrix $A$ is called <a href=\"https://en.wikipedia.org/wiki/Sparse_matrix\">sparse</a> if and only if the number of nonzero elements in $A$ is much smaller than $n^2$.\n",
    "In addition, for such matrices we can use special storage formats such as the compressed sparse row format (CSR) in order to reduce the memory footprint of such matrices.\n",
    "\n",
    "\n",
    "----\n",
    "\n",
    "\n"
   ]
  },
  {
   "cell_type": "markdown",
   "id": "5d9e1d37-ad47-4769-ba4b-e408d5021d4e",
   "metadata": {},
   "source": [
    "In the following sections we will review some very common iterative methods for solving equation 1."
   ]
  }
 ],
 "metadata": {
  "kernelspec": {
   "display_name": "Python 3 (ipykernel)",
   "language": "python",
   "name": "python3"
  },
  "language_info": {
   "codemirror_mode": {
    "name": "ipython",
    "version": 3
   },
   "file_extension": ".py",
   "mimetype": "text/x-python",
   "name": "python",
   "nbconvert_exporter": "python",
   "pygments_lexer": "ipython3",
   "version": "3.10.6"
  }
 },
 "nbformat": 4,
 "nbformat_minor": 5
}
