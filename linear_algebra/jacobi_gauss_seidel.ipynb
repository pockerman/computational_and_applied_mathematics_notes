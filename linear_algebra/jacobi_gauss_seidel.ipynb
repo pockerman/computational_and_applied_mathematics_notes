{
 "cells": [
  {
   "cell_type": "markdown",
   "id": "e0489f66-c506-406f-aafc-24373cd07e03",
   "metadata": {},
   "source": [
    "# Jacobi and Gauss-Seidel methods"
   ]
  },
  {
   "cell_type": "markdown",
   "id": "3e82d1eb-323f-4043-bf2d-2207693dc004",
   "metadata": {},
   "source": [
    "## Overview"
   ]
  },
  {
   "cell_type": "markdown",
   "id": "1963a9e2-be43-4c31-8c2a-3bedef90e016",
   "metadata": {},
   "source": [
    "In this section we will look into two iterative methods namely \n",
    "the <a href=\"https://en.wikipedia.org/wiki/Jacobi_method\">Jacobi mathod</a> \n",
    "and the <a href=\"https://en.wikipedia.org/wiki/Gauss%E2%80%93Seidel_method\">Gauss-Seidel method</a>.\n",
    "Both are very easy to implement"
   ]
  },
  {
   "cell_type": "markdown",
   "id": "83511c6e-c94d-4f94-8ca2-582a0a6949cb",
   "metadata": {},
   "source": [
    "## Jacobi method"
   ]
  },
  {
   "cell_type": "markdown",
   "id": "ba192f61-36a7-4fe2-a9bf-847e62a87e4c",
   "metadata": {},
   "source": [
    "In order to solve the system "
   ]
  },
  {
   "cell_type": "markdown",
   "id": "02ed6b81-5014-4b5d-ab9f-f0ff6fc9305b",
   "metadata": {},
   "source": [
    "\\begin{equation}\n",
    "A \\mathbf{x} = \\mathbf{b}\n",
    "\\label{eq:eq1}\\tag{1}\n",
    "\\end{equation}"
   ]
  },
  {
   "cell_type": "markdown",
   "id": "4633b75d-83d4-499f-865f-09e32a01a7a6",
   "metadata": {},
   "source": [
    "the Jacobi method will split the matrix $A$ into three matrices [1]:\n",
    "\n",
    "\\begin{equation}\n",
    "A = D + A_L + A_R\n",
    "\\label{eq:eq2}\\tag{2}\n",
    "\\end{equation}\n",
    "\n",
    "\n",
    "where $D$ is a diagonal matrix, $A_L$ is  a lower left triangular matrix and $A_R$ is an upper right traingular matrix. In addition the method assumes that \n",
    "all the diagonal entries for $A$ are non-zero. This implies the $D^{-1}$ exists. Thus the solution of equation 1 can be written as [1]\n",
    "\n",
    "\n",
    "\\begin{equation}\n",
    "\\mathbf{x} = D^{-1}\\mathbf{b} - D^{-1}(A_L + A_R)\\mathbf{x}\n",
    "\\label{eq:eq3}\\tag{3}\n",
    "\\end{equation}\n"
   ]
  },
  {
   "cell_type": "markdown",
   "id": "7e0a817b-982a-47e8-bfa0-0f7ebc6c89c8",
   "metadata": {},
   "source": [
    "In components, one step of the Jacobi iteration scheme is written as"
   ]
  },
  {
   "cell_type": "markdown",
   "id": "013eb6f7-0283-4cc3-9798-3b85b4c591b3",
   "metadata": {},
   "source": [
    "\\begin{equation}\n",
    "x_{k + 1, i} = \\frac{b_i}{a_{ii}} - \\sum_{j=1, j \\neq i}^N \\frac{a_{i,k}}{a_{ii}} x_{k , i}\n",
    "\\label{eq:eq4}\\tag{4}\n",
    "\\end{equation}"
   ]
  },
  {
   "cell_type": "markdown",
   "id": "72e92da2-8855-4213-950a-195e5d32e88e",
   "metadata": {},
   "source": [
    "## Gauss-Seidel method"
   ]
  },
  {
   "cell_type": "markdown",
   "id": "8b4e4fa8-490e-40cc-b1e0-8c6f478f84fb",
   "metadata": {},
   "source": [
    "## References"
   ]
  },
  {
   "cell_type": "markdown",
   "id": "8096e9cd-9d3d-4fd6-8c03-138fe47d099d",
   "metadata": {},
   "source": [
    "1. Rainer Kress, _Numerical Analysis_, Springer, 1998."
   ]
  },
  {
   "cell_type": "code",
   "execution_count": null,
   "id": "77a6dd2a-9bdc-45d3-90c7-30d9b99d2acf",
   "metadata": {},
   "outputs": [],
   "source": []
  }
 ],
 "metadata": {
  "kernelspec": {
   "display_name": "Python 3 (ipykernel)",
   "language": "python",
   "name": "python3"
  },
  "language_info": {
   "codemirror_mode": {
    "name": "ipython",
    "version": 3
   },
   "file_extension": ".py",
   "mimetype": "text/x-python",
   "name": "python",
   "nbconvert_exporter": "python",
   "pygments_lexer": "ipython3",
   "version": "3.10.6"
  }
 },
 "nbformat": 4,
 "nbformat_minor": 5
}
