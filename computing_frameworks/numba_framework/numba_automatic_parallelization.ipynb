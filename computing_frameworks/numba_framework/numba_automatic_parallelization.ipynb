{
 "cells": [
  {
   "cell_type": "markdown",
   "id": "48b547b4-1daf-430b-b42a-b1c79d683fc8",
   "metadata": {},
   "source": [
    "# Using ```numba```: Automatic parallelization with ```jit```\n"
   ]
  },
  {
   "cell_type": "markdown",
   "id": "cbecd8b5-67a5-4e6b-a7d3-280b3c9b090f",
   "metadata": {},
   "source": [
    "## Overview"
   ]
  },
  {
   "cell_type": "markdown",
   "id": "d0829bb5-0999-4fbe-9aee-b06eb42d1a41",
   "metadata": {},
   "source": [
    "In this section we introduce <a href=\"https://numba.pydata.org/\">numba</a>. Numba  is a Python framework for parallelizing computations.\n",
    "It translates Python functions to optimized machine code at runtime using the industry-standard LLVM compiler library. Numba-compiled numerical algorithms in Python can approach the speeds of C or FORTRAN. Numba offers a range of options for parallelizing your code for CPUs and GPUs, often with only minor code changes."
   ]
  },
  {
   "cell_type": "markdown",
   "id": "e37524c8-4822-4938-adaa-9797e32895e9",
   "metadata": {},
   "source": [
    "## Using ```numba```"
   ]
  },
  {
   "cell_type": "markdown",
   "id": "1b502587-dd35-498e-b7ed-bce2b9d25bcb",
   "metadata": {},
   "source": [
    "Setting the parallel option for ```jit()``` enables a Numba transformation pass that attempts to automatically parallelize and perform other optimizations on (part of) a function. At the moment, this feature only works on CPUs."
   ]
  },
  {
   "cell_type": "markdown",
   "id": "a767704f-7f37-43a2-aae3-516c02d8e668",
   "metadata": {
    "tags": []
   },
   "source": [
    "### Explicit parallel loops"
   ]
  },
  {
   "cell_type": "markdown",
   "id": "4c7b1743-65e9-46b9-ad48-63c48ea5b731",
   "metadata": {},
   "source": [
    "Another feature of the code transformation pass (when parallel=True) is support for explicit parallel loops. One can use Numba’s ```prange``` instead of range to specify that a loop can be parallelized. The user is required to make sure that the loop does not have cross iteration dependencies except for supported reductions. Here is an example."
   ]
  },
  {
   "cell_type": "code",
   "execution_count": 1,
   "id": "6bb2bac9-6171-445c-9374-07972d3e20c3",
   "metadata": {},
   "outputs": [],
   "source": [
    "import numpy as np\n",
    "from numba import njit, prange"
   ]
  },
  {
   "cell_type": "code",
   "execution_count": 2,
   "id": "d3e2b119-1a98-4088-9e29-4feb7dc92fad",
   "metadata": {},
   "outputs": [],
   "source": [
    "\n",
    "\n",
    "@njit(parallel=True)\n",
    "def prange_test(arr):\n",
    "    s = 0\n",
    "    # Without \"parallel=True\" in the jit-decorator\n",
    "    # the prange statement is equivalent to range\n",
    "    for i in prange(arr.shape[0]):\n",
    "        s += arr[i]\n",
    "    return s"
   ]
  },
  {
   "cell_type": "code",
   "execution_count": 3,
   "id": "5c70f5f6-a18b-4097-8991-8c654714683e",
   "metadata": {},
   "outputs": [
    {
     "data": {
      "text/plain": [
       "499999500000"
      ]
     },
     "execution_count": 3,
     "metadata": {},
     "output_type": "execute_result"
    }
   ],
   "source": [
    "data = [i for i in range(1000000)]\n",
    "prange_test(np.array(data))"
   ]
  },
  {
   "cell_type": "code",
   "execution_count": null,
   "id": "75f343e8-c88a-4b34-a172-e722978fe3ba",
   "metadata": {},
   "outputs": [],
   "source": []
  }
 ],
 "metadata": {
  "kernelspec": {
   "display_name": "Python 3 (ipykernel)",
   "language": "python",
   "name": "python3"
  },
  "language_info": {
   "codemirror_mode": {
    "name": "ipython",
    "version": 3
   },
   "file_extension": ".py",
   "mimetype": "text/x-python",
   "name": "python",
   "nbconvert_exporter": "python",
   "pygments_lexer": "ipython3",
   "version": "3.10.6"
  }
 },
 "nbformat": 4,
 "nbformat_minor": 5
}
